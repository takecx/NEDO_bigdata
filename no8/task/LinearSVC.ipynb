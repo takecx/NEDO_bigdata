{
 "cells": [
  {
   "cell_type": "code",
   "execution_count": 1,
   "metadata": {
    "scrolled": true
   },
   "outputs": [
    {
     "name": "stderr",
     "output_type": "stream",
     "text": [
      "/Users/takeshi/.pyenv/versions/anaconda3-5.0.1/lib/python3.6/importlib/_bootstrap.py:219: RuntimeWarning: numpy.ufunc size changed, may indicate binary incompatibility. Expected 216, got 192\n",
      "  return f(*args, **kwds)\n"
     ]
    }
   ],
   "source": [
    "%matplotlib inline\n",
    "import matplotlib.pyplot as plt\n",
    "import numpy as np\n",
    "import pandas as pd\n",
    "from sklearn.metrics import accuracy_score\n",
    "from sklearn.svm import LinearSVC\n",
    "from sklearn.metrics import confusion_matrix\n",
    "from sklearn.metrics import f1_score"
   ]
  },
  {
   "cell_type": "markdown",
   "metadata": {},
   "source": [
    "## 学習"
   ]
  },
  {
   "cell_type": "code",
   "execution_count": 2,
   "metadata": {},
   "outputs": [
    {
     "data": {
      "text/html": [
       "<div>\n",
       "<style scoped>\n",
       "    .dataframe tbody tr th:only-of-type {\n",
       "        vertical-align: middle;\n",
       "    }\n",
       "\n",
       "    .dataframe tbody tr th {\n",
       "        vertical-align: top;\n",
       "    }\n",
       "\n",
       "    .dataframe thead th {\n",
       "        text-align: right;\n",
       "    }\n",
       "</style>\n",
       "<table border=\"1\" class=\"dataframe\">\n",
       "  <thead>\n",
       "    <tr style=\"text-align: right;\">\n",
       "      <th></th>\n",
       "      <th>age</th>\n",
       "      <th>job</th>\n",
       "      <th>marital</th>\n",
       "      <th>education</th>\n",
       "      <th>default</th>\n",
       "      <th>balance</th>\n",
       "      <th>housing</th>\n",
       "      <th>loan</th>\n",
       "      <th>contact</th>\n",
       "      <th>day</th>\n",
       "      <th>month</th>\n",
       "      <th>duration</th>\n",
       "      <th>campaign</th>\n",
       "      <th>pdays</th>\n",
       "      <th>previous</th>\n",
       "      <th>poutcome</th>\n",
       "      <th>y</th>\n",
       "    </tr>\n",
       "  </thead>\n",
       "  <tbody>\n",
       "    <tr>\n",
       "      <th>0</th>\n",
       "      <td>52</td>\n",
       "      <td>services</td>\n",
       "      <td>married</td>\n",
       "      <td>secondary</td>\n",
       "      <td>no</td>\n",
       "      <td>108</td>\n",
       "      <td>yes</td>\n",
       "      <td>no</td>\n",
       "      <td>unknown</td>\n",
       "      <td>15</td>\n",
       "      <td>may</td>\n",
       "      <td>543</td>\n",
       "      <td>12</td>\n",
       "      <td>-1</td>\n",
       "      <td>0</td>\n",
       "      <td>unknown</td>\n",
       "      <td>no</td>\n",
       "    </tr>\n",
       "    <tr>\n",
       "      <th>1</th>\n",
       "      <td>35</td>\n",
       "      <td>admin.</td>\n",
       "      <td>married</td>\n",
       "      <td>unknown</td>\n",
       "      <td>no</td>\n",
       "      <td>1055</td>\n",
       "      <td>no</td>\n",
       "      <td>no</td>\n",
       "      <td>cellular</td>\n",
       "      <td>2</td>\n",
       "      <td>mar</td>\n",
       "      <td>59</td>\n",
       "      <td>2</td>\n",
       "      <td>-1</td>\n",
       "      <td>0</td>\n",
       "      <td>unknown</td>\n",
       "      <td>no</td>\n",
       "    </tr>\n",
       "    <tr>\n",
       "      <th>2</th>\n",
       "      <td>37</td>\n",
       "      <td>blue-collar</td>\n",
       "      <td>married</td>\n",
       "      <td>secondary</td>\n",
       "      <td>no</td>\n",
       "      <td>32</td>\n",
       "      <td>yes</td>\n",
       "      <td>no</td>\n",
       "      <td>unknown</td>\n",
       "      <td>20</td>\n",
       "      <td>may</td>\n",
       "      <td>146</td>\n",
       "      <td>2</td>\n",
       "      <td>-1</td>\n",
       "      <td>0</td>\n",
       "      <td>unknown</td>\n",
       "      <td>no</td>\n",
       "    </tr>\n",
       "    <tr>\n",
       "      <th>3</th>\n",
       "      <td>57</td>\n",
       "      <td>unemployed</td>\n",
       "      <td>married</td>\n",
       "      <td>primary</td>\n",
       "      <td>no</td>\n",
       "      <td>2743</td>\n",
       "      <td>no</td>\n",
       "      <td>no</td>\n",
       "      <td>cellular</td>\n",
       "      <td>29</td>\n",
       "      <td>jan</td>\n",
       "      <td>89</td>\n",
       "      <td>1</td>\n",
       "      <td>-1</td>\n",
       "      <td>0</td>\n",
       "      <td>unknown</td>\n",
       "      <td>no</td>\n",
       "    </tr>\n",
       "    <tr>\n",
       "      <th>4</th>\n",
       "      <td>42</td>\n",
       "      <td>self-employed</td>\n",
       "      <td>married</td>\n",
       "      <td>tertiary</td>\n",
       "      <td>no</td>\n",
       "      <td>6383</td>\n",
       "      <td>no</td>\n",
       "      <td>no</td>\n",
       "      <td>cellular</td>\n",
       "      <td>27</td>\n",
       "      <td>aug</td>\n",
       "      <td>111</td>\n",
       "      <td>5</td>\n",
       "      <td>-1</td>\n",
       "      <td>0</td>\n",
       "      <td>unknown</td>\n",
       "      <td>no</td>\n",
       "    </tr>\n",
       "  </tbody>\n",
       "</table>\n",
       "</div>"
      ],
      "text/plain": [
       "   age            job  marital  education default  balance housing loan  \\\n",
       "0   52       services  married  secondary      no      108     yes   no   \n",
       "1   35         admin.  married    unknown      no     1055      no   no   \n",
       "2   37    blue-collar  married  secondary      no       32     yes   no   \n",
       "3   57     unemployed  married    primary      no     2743      no   no   \n",
       "4   42  self-employed  married   tertiary      no     6383      no   no   \n",
       "\n",
       "    contact  day month  duration  campaign  pdays  previous poutcome   y  \n",
       "0   unknown   15   may       543        12     -1         0  unknown  no  \n",
       "1  cellular    2   mar        59         2     -1         0  unknown  no  \n",
       "2   unknown   20   may       146         2     -1         0  unknown  no  \n",
       "3  cellular   29   jan        89         1     -1         0  unknown  no  \n",
       "4  cellular   27   aug       111         5     -1         0  unknown  no  "
      ]
     },
     "execution_count": 2,
     "metadata": {},
     "output_type": "execute_result"
    }
   ],
   "source": [
    "df = pd.read_csv('train.csv')\n",
    "df.head()"
   ]
  },
  {
   "cell_type": "markdown",
   "metadata": {},
   "source": [
    "## データ確認\n",
    "参考URL：https://ohke.hateblo.jp/entry/2017/08/04/230000"
   ]
  },
  {
   "cell_type": "code",
   "execution_count": 3,
   "metadata": {},
   "outputs": [
    {
     "data": {
      "text/plain": [
       "no     35952\n",
       "yes     4737\n",
       "Name: y, dtype: int64"
      ]
     },
     "execution_count": 3,
     "metadata": {},
     "output_type": "execute_result"
    }
   ],
   "source": [
    "df['y'].value_counts()"
   ]
  },
  {
   "cell_type": "code",
   "execution_count": 4,
   "metadata": {},
   "outputs": [
    {
     "data": {
      "text/plain": [
       "array([[<matplotlib.axes._subplots.AxesSubplot object at 0x11cb1d1d0>,\n",
       "        <matplotlib.axes._subplots.AxesSubplot object at 0x11cacc630>,\n",
       "        <matplotlib.axes._subplots.AxesSubplot object at 0x11ca66ba8>],\n",
       "       [<matplotlib.axes._subplots.AxesSubplot object at 0x11ca97160>,\n",
       "        <matplotlib.axes._subplots.AxesSubplot object at 0x11ca2f6d8>,\n",
       "        <matplotlib.axes._subplots.AxesSubplot object at 0x11c9c8c50>],\n",
       "       [<matplotlib.axes._subplots.AxesSubplot object at 0x11c9f6208>,\n",
       "        <matplotlib.axes._subplots.AxesSubplot object at 0x1116ea7b8>,\n",
       "        <matplotlib.axes._subplots.AxesSubplot object at 0x1116ea7f0>]],\n",
       "      dtype=object)"
      ]
     },
     "execution_count": 4,
     "metadata": {},
     "output_type": "execute_result"
    },
    {
     "data": {
      "image/png": "[encoded data removed]",
      "text/plain": [
       "<Figure size 1152x576 with 9 Axes>"
      ]
     },
     "metadata": {
      "needs_background": "light"
     },
     "output_type": "display_data"
    }
   ],
   "source": [
    "df.hist(figsize=(16,8))"
   ]
  },
  {
   "cell_type": "code",
   "execution_count": 6,
   "metadata": {},
   "outputs": [
    {
     "name": "stdout",
     "output_type": "stream",
     "text": [
      "(job)\n",
      "['admin.' 'blue-collar' 'entrepreneur' 'housemaid' 'management' 'retired'\n",
      " 'self-employed' 'services' 'student' 'technician' 'unemployed' 'unknown']\n",
      "(marital)\n",
      "['divorced' 'married' 'single']\n",
      "(education)\n",
      "['primary' 'secondary' 'tertiary' 'unknown']\n",
      "(default)\n",
      "['no' 'yes']\n",
      "(housing)\n",
      "['no' 'yes']\n",
      "(loan)\n",
      "['no' 'yes']\n",
      "(contact)\n",
      "['cellular' 'telephone' 'unknown']\n",
      "(month)\n",
      "['apr' 'aug' 'dec' 'feb' 'jan' 'jul' 'jun' 'mar' 'may' 'nov' 'oct' 'sep']\n",
      "(poutcome)\n",
      "['failure' 'other' 'success' 'unknown']\n",
      "(y)\n",
      "['no' 'yes']\n"
     ]
    }
   ],
   "source": [
    "# カテゴリ系の特徴量に含まれる値を確認\n",
    "for col in df.columns:\n",
    "    if not isinstance(df[col][0],str):\n",
    "        continue\n",
    "    print('({})'.format(col))\n",
    "    print('{}'.format(np.unique(df[col].values)))"
   ]
  },
  {
   "cell_type": "code",
   "execution_count": 5,
   "metadata": {},
   "outputs": [],
   "source": [
    "def create_feature_df(input_df):\n",
    "    # 各特徴量の相関係数を可視化\n",
    "    features_df = pd.DataFrame()\n",
    "\n",
    "    # 目的変数\n",
    "    features_df['y'] = input_df['y'].apply(lambda s : 1 if s == 'yes' else 0)\n",
    "\n",
    "    # 連続値\n",
    "    features_df['age'] = input_df['age']\n",
    "    features_df['balance'] = input_df['balance']\n",
    "    features_df['day'] = input_df['day']\n",
    "    features_df['duration'] = input_df['duration']\n",
    "    features_df['campaign'] = input_df['campaign']\n",
    "    features_df['pdays'] = input_df['pdays']\n",
    "    features_df['previous'] = input_df['previous']\n",
    "\n",
    "    # ２値\n",
    "    features_df['default'] = input_df['default'].apply(lambda s : 1 if s=='yes' else 0)\n",
    "    features_df['housing'] = input_df['housing'].apply(lambda s : 1 if s=='yes' else 0)\n",
    "    features_df['loan'] = input_df['loan'].apply(lambda s : 1 if s=='yes' else 0)\n",
    "\n",
    "    # カテゴリ\n",
    "    features_df['job'],_ = pd.factorize(input_df['job'])\n",
    "    features_df['marital'],_ = pd.factorize(input_df['marital'])\n",
    "    features_df['education'],_ = pd.factorize(input_df['education'])\n",
    "    features_df['contact'],_ = pd.factorize(input_df['contact'])\n",
    "    features_df['month'],_ = pd.factorize(input_df['month'])\n",
    "    features_df['poutcome'],_ = pd.factorize(input_df['poutcome'])\n",
    "    \n",
    "    return features_df"
   ]
  },
  {
   "cell_type": "code",
   "execution_count": 6,
   "metadata": {},
   "outputs": [],
   "source": [
    "def get_features(df):\n",
    "    # 特徴量として使う連続量\n",
    "    features_ana = ['age', 'balance','day','duration','campaign','pdays','previous']\n",
    "    # 連続値として使うカテゴリ値\n",
    "    features_dig = ['job', 'housing','default','loan','marital','education','contact','month','poutcome']\n",
    "    X = np.concatenate(\n",
    "        [df[features_ana].values, pd.get_dummies(df[features_dig]).values],\n",
    "        axis=1)\n",
    "    return X\n",
    "\n",
    "def get_label(df):\n",
    "    y = df['y'].replace({'yes': 1, 'no': 0}).values\n",
    "    return y"
   ]
  },
  {
   "cell_type": "markdown",
   "metadata": {},
   "source": [
    "## モデル構築"
   ]
  },
  {
   "cell_type": "code",
   "execution_count": 51,
   "metadata": {},
   "outputs": [],
   "source": [
    "def create_linearsvc_model_and_fit(target_df):\n",
    "    features_df = create_feature_df(target_df)\n",
    "    X = features_df.drop('y',axis=1).values\n",
    "    y = get_label(target_df)\n",
    "\n",
    "    lsvc = LinearSVC(penalty='l1', loss='squared_hinge', dual=False, tol=1e-3,C=0.05)\n",
    "    lsvc.fit(X,y)\n",
    "    # 評価\n",
    "    print('Train score: {}'.format(lsvc.score(X, y)))\n",
    "    print('Confusion matrix:\\n{}'.format(confusion_matrix(y, lsvc.predict(X))))\n",
    "    print('f1 score: {:.3f}'.format(f1_score(y, lsvc.predict(X))))\n",
    "    return lsvc"
   ]
  },
  {
   "cell_type": "code",
   "execution_count": 52,
   "metadata": {},
   "outputs": [
    {
     "name": "stdout",
     "output_type": "stream",
     "text": [
      "Train score: 0.8975890289758903\n",
      "Confusion matrix:\n",
      "[[35352   600]\n",
      " [ 3567  1170]]\n",
      "f1 score: 0.360\n"
     ]
    }
   ],
   "source": [
    "# 特徴量, ラベルを作成\n",
    "X = get_features(df)\n",
    "y = get_label(df)\n",
    "lsvc = create_linearsvc_model_and_fit(df)"
   ]
  },
  {
   "cell_type": "markdown",
   "metadata": {},
   "source": [
    "## テスト"
   ]
  },
  {
   "cell_type": "code",
   "execution_count": 53,
   "metadata": {},
   "outputs": [],
   "source": [
    "test_df = pd.read_csv('test.csv')"
   ]
  },
  {
   "cell_type": "code",
   "execution_count": 54,
   "metadata": {},
   "outputs": [
    {
     "name": "stdout",
     "output_type": "stream",
     "text": [
      "Test score: 0.8907563025210085\n",
      "Confusion matrix:\n",
      "[[3881   89]\n",
      " [ 405  147]]\n",
      "f1 score: 0.373\n",
      "0.8907563025210085\n"
     ]
    }
   ],
   "source": [
    "test_X = create_feature_df(test_df).drop('y',axis=1).values\n",
    "test_y = get_label(test_df)\n",
    "print('Test score: {}'.format(lsvc.score(test_X, test_y)))\n",
    "print('Confusion matrix:\\n{}'.format(confusion_matrix(test_y, lsvc.predict(test_X))))\n",
    "print('f1 score: {:.3f}'.format(f1_score(test_y, lsvc.predict(test_X))))\n",
    "pred_lsvc =lsvc.predict(test_X)\n",
    "print(accuracy_score(test_y,pred_lsvc))"
   ]
  },
  {
   "cell_type": "code",
   "execution_count": 55,
   "metadata": {},
   "outputs": [
    {
     "name": "stdout",
     "output_type": "stream",
     "text": [
      "Train score: 0.8975708103855232\n",
      "Confusion matrix:\n",
      "[[35339   599]\n",
      " [ 3567  1167]]\n",
      "f1 score: 0.359\n",
      "Test score: 0.8900928792569659\n",
      "Confusion matrix:\n",
      "[[3880   90]\n",
      " [ 407  145]]\n",
      "f1 score: 0.368\n",
      "0.8900928792569659\n"
     ]
    }
   ],
   "source": [
    "# 外れ値データを外したCSVファイルでやってみる\n",
    "dropped_train_df = pd.read_csv('dropped_outliers_train.csv')\n",
    "# 特徴量, ラベルを作成\n",
    "X = get_features(dropped_train_df)\n",
    "y = get_label(dropped_train_df)\n",
    "lsvc_dropped = create_linearsvc_model_and_fit(dropped_train_df)\n",
    "\n",
    "# テスト\n",
    "test_df = pd.read_csv('test.csv')\n",
    "test_X = create_feature_df(test_df).drop('y',axis=1).values\n",
    "test_y = get_label(test_df)\n",
    "print('Test score: {}'.format(lsvc_dropped.score(test_X, test_y)))\n",
    "print('Confusion matrix:\\n{}'.format(confusion_matrix(test_y, lsvc_dropped.predict(test_X))))\n",
    "print('f1 score: {:.3f}'.format(f1_score(test_y, lsvc_dropped.predict(test_X))))\n",
    "pred_lsvc_test =lsvc_dropped.predict(test_X)\n",
    "print(accuracy_score(test_y,pred_lsvc_test))"
   ]
  },
  {
   "cell_type": "code",
   "execution_count": 10,
   "metadata": {},
   "outputs": [],
   "source": [
    "# accuracy\n",
    "pred = model.predict(test_X).reshape(-1)\n",
    "pred = (pred > 0.5).astype(int)"
   ]
  },
  {
   "cell_type": "code",
   "execution_count": 13,
   "metadata": {},
   "outputs": [
    {
     "data": {
      "text/plain": [
       "0.8781512605042017"
      ]
     },
     "execution_count": 13,
     "metadata": {},
     "output_type": "execute_result"
    }
   ],
   "source": [
    "# test ARI (この値を報告してください)\n",
    "accuracy_score(test_y, pred)"
   ]
  },
  {
   "cell_type": "markdown",
   "metadata": {},
   "source": [
    "# グリッドサーチでパラメータ探索"
   ]
  },
  {
   "cell_type": "code",
   "execution_count": 67,
   "metadata": {},
   "outputs": [
    {
     "name": "stdout",
     "output_type": "stream",
     "text": [
      "Fitting 3 folds for each of 10 candidates, totalling 30 fits\n",
      "[CV] C=0.1, loss=hinge ...............................................\n"
     ]
    },
    {
     "name": "stderr",
     "output_type": "stream",
     "text": [
      "[Parallel(n_jobs=1)]: Using backend SequentialBackend with 1 concurrent workers.\n",
      "/Users/takeshi/.local/lib/python3.6/site-packages/sklearn/svm/base.py:931: ConvergenceWarning: Liblinear failed to converge, increase the number of iterations.\n",
      "  \"the number of iterations.\", ConvergenceWarning)\n",
      "[Parallel(n_jobs=1)]: Done   1 out of   1 | elapsed:    5.5s remaining:    0.0s\n"
     ]
    },
    {
     "name": "stdout",
     "output_type": "stream",
     "text": [
      "[CV] ...... C=0.1, loss=hinge, score=0.8256379997049712, total=   5.5s\n",
      "[CV] C=0.1, loss=hinge ...............................................\n"
     ]
    },
    {
     "name": "stderr",
     "output_type": "stream",
     "text": [
      "/Users/takeshi/.local/lib/python3.6/site-packages/sklearn/svm/base.py:931: ConvergenceWarning: Liblinear failed to converge, increase the number of iterations.\n",
      "  \"the number of iterations.\", ConvergenceWarning)\n",
      "[Parallel(n_jobs=1)]: Done   2 out of   2 | elapsed:   11.0s remaining:    0.0s\n"
     ]
    },
    {
     "name": "stdout",
     "output_type": "stream",
     "text": [
      "[CV] ...... C=0.1, loss=hinge, score=0.8951095375082982, total=   5.4s\n",
      "[CV] C=0.1, loss=hinge ...............................................\n"
     ]
    },
    {
     "name": "stderr",
     "output_type": "stream",
     "text": [
      "/Users/takeshi/.local/lib/python3.6/site-packages/sklearn/svm/base.py:931: ConvergenceWarning: Liblinear failed to converge, increase the number of iterations.\n",
      "  \"the number of iterations.\", ConvergenceWarning)\n"
     ]
    },
    {
     "name": "stdout",
     "output_type": "stream",
     "text": [
      "[CV] ...... C=0.1, loss=hinge, score=0.8985763812052814, total=   5.4s\n",
      "[CV] C=0.1, loss=squared_hinge .......................................\n"
     ]
    },
    {
     "name": "stderr",
     "output_type": "stream",
     "text": [
      "/Users/takeshi/.local/lib/python3.6/site-packages/sklearn/svm/base.py:931: ConvergenceWarning: Liblinear failed to converge, increase the number of iterations.\n",
      "  \"the number of iterations.\", ConvergenceWarning)\n"
     ]
    },
    {
     "name": "stdout",
     "output_type": "stream",
     "text": [
      "[CV]  C=0.1, loss=squared_hinge, score=0.8429709396666175, total=   5.4s\n",
      "[CV] C=0.1, loss=squared_hinge .......................................\n"
     ]
    },
    {
     "name": "stderr",
     "output_type": "stream",
     "text": [
      "/Users/takeshi/.local/lib/python3.6/site-packages/sklearn/svm/base.py:931: ConvergenceWarning: Liblinear failed to converge, increase the number of iterations.\n",
      "  \"the number of iterations.\", ConvergenceWarning)\n"
     ]
    },
    {
     "name": "stdout",
     "output_type": "stream",
     "text": [
      "[CV]  C=0.1, loss=squared_hinge, score=0.8768164048093235, total=   5.5s\n",
      "[CV] C=0.1, loss=squared_hinge .......................................\n"
     ]
    },
    {
     "name": "stderr",
     "output_type": "stream",
     "text": [
      "/Users/takeshi/.local/lib/python3.6/site-packages/sklearn/svm/base.py:931: ConvergenceWarning: Liblinear failed to converge, increase the number of iterations.\n",
      "  \"the number of iterations.\", ConvergenceWarning)\n"
     ]
    },
    {
     "name": "stdout",
     "output_type": "stream",
     "text": [
      "[CV]  C=0.1, loss=squared_hinge, score=0.8895035774876447, total=   5.4s\n",
      "[CV] C=0.5, loss=hinge ...............................................\n"
     ]
    },
    {
     "name": "stderr",
     "output_type": "stream",
     "text": [
      "/Users/takeshi/.local/lib/python3.6/site-packages/sklearn/svm/base.py:931: ConvergenceWarning: Liblinear failed to converge, increase the number of iterations.\n",
      "  \"the number of iterations.\", ConvergenceWarning)\n"
     ]
    },
    {
     "name": "stdout",
     "output_type": "stream",
     "text": [
      "[CV] ...... C=0.5, loss=hinge, score=0.7434724885676354, total=   5.4s\n",
      "[CV] C=0.5, loss=hinge ...............................................\n"
     ]
    },
    {
     "name": "stderr",
     "output_type": "stream",
     "text": [
      "/Users/takeshi/.local/lib/python3.6/site-packages/sklearn/svm/base.py:931: ConvergenceWarning: Liblinear failed to converge, increase the number of iterations.\n",
      "  \"the number of iterations.\", ConvergenceWarning)\n"
     ]
    },
    {
     "name": "stdout",
     "output_type": "stream",
     "text": [
      "[CV] ...... C=0.5, loss=hinge, score=0.8907575422291067, total=   5.4s\n",
      "[CV] C=0.5, loss=hinge ...............................................\n"
     ]
    },
    {
     "name": "stderr",
     "output_type": "stream",
     "text": [
      "/Users/takeshi/.local/lib/python3.6/site-packages/sklearn/svm/base.py:931: ConvergenceWarning: Liblinear failed to converge, increase the number of iterations.\n",
      "  \"the number of iterations.\", ConvergenceWarning)\n"
     ]
    },
    {
     "name": "stdout",
     "output_type": "stream",
     "text": [
      "[CV] ...... C=0.5, loss=hinge, score=0.8998303459467434, total=   5.5s\n",
      "[CV] C=0.5, loss=squared_hinge .......................................\n"
     ]
    },
    {
     "name": "stderr",
     "output_type": "stream",
     "text": [
      "/Users/takeshi/.local/lib/python3.6/site-packages/sklearn/svm/base.py:931: ConvergenceWarning: Liblinear failed to converge, increase the number of iterations.\n",
      "  \"the number of iterations.\", ConvergenceWarning)\n"
     ]
    },
    {
     "name": "stdout",
     "output_type": "stream",
     "text": [
      "[CV]  C=0.5, loss=squared_hinge, score=0.5621773122879481, total=   5.6s\n",
      "[CV] C=0.5, loss=squared_hinge .......................................\n"
     ]
    },
    {
     "name": "stderr",
     "output_type": "stream",
     "text": [
      "/Users/takeshi/.local/lib/python3.6/site-packages/sklearn/svm/base.py:931: ConvergenceWarning: Liblinear failed to converge, increase the number of iterations.\n",
      "  \"the number of iterations.\", ConvergenceWarning)\n"
     ]
    },
    {
     "name": "stdout",
     "output_type": "stream",
     "text": [
      "[CV]  C=0.5, loss=squared_hinge, score=0.8411890536254334, total=   6.1s\n",
      "[CV] C=0.5, loss=squared_hinge .......................................\n"
     ]
    },
    {
     "name": "stderr",
     "output_type": "stream",
     "text": [
      "/Users/takeshi/.local/lib/python3.6/site-packages/sklearn/svm/base.py:931: ConvergenceWarning: Liblinear failed to converge, increase the number of iterations.\n",
      "  \"the number of iterations.\", ConvergenceWarning)\n"
     ]
    },
    {
     "name": "stdout",
     "output_type": "stream",
     "text": [
      "[CV]  C=0.5, loss=squared_hinge, score=0.8929704211846279, total=   6.1s\n",
      "[CV] C=1, loss=hinge .................................................\n"
     ]
    },
    {
     "name": "stderr",
     "output_type": "stream",
     "text": [
      "/Users/takeshi/.local/lib/python3.6/site-packages/sklearn/svm/base.py:931: ConvergenceWarning: Liblinear failed to converge, increase the number of iterations.\n",
      "  \"the number of iterations.\", ConvergenceWarning)\n"
     ]
    },
    {
     "name": "stdout",
     "output_type": "stream",
     "text": [
      "[CV] ........ C=1, loss=hinge, score=0.6522348428971825, total=   5.5s\n",
      "[CV] C=1, loss=hinge .................................................\n"
     ]
    },
    {
     "name": "stderr",
     "output_type": "stream",
     "text": [
      "/Users/takeshi/.local/lib/python3.6/site-packages/sklearn/svm/base.py:931: ConvergenceWarning: Liblinear failed to converge, increase the number of iterations.\n",
      "  \"the number of iterations.\", ConvergenceWarning)\n"
     ]
    },
    {
     "name": "stdout",
     "output_type": "stream",
     "text": [
      "[CV] ......... C=1, loss=hinge, score=0.741461975363281, total=   5.4s\n",
      "[CV] C=1, loss=hinge .................................................\n"
     ]
    },
    {
     "name": "stderr",
     "output_type": "stream",
     "text": [
      "/Users/takeshi/.local/lib/python3.6/site-packages/sklearn/svm/base.py:931: ConvergenceWarning: Liblinear failed to converge, increase the number of iterations.\n",
      "  \"the number of iterations.\", ConvergenceWarning)\n"
     ]
    },
    {
     "name": "stdout",
     "output_type": "stream",
     "text": [
      "[CV] ......... C=1, loss=hinge, score=0.887216935900273, total=   5.4s\n",
      "[CV] C=1, loss=squared_hinge .........................................\n"
     ]
    },
    {
     "name": "stderr",
     "output_type": "stream",
     "text": [
      "/Users/takeshi/.local/lib/python3.6/site-packages/sklearn/svm/base.py:931: ConvergenceWarning: Liblinear failed to converge, increase the number of iterations.\n",
      "  \"the number of iterations.\", ConvergenceWarning)\n"
     ]
    },
    {
     "name": "stdout",
     "output_type": "stream",
     "text": [
      "[CV]  C=1, loss=squared_hinge, score=0.8603038796282637, total=   5.8s\n",
      "[CV] C=1, loss=squared_hinge .........................................\n"
     ]
    },
    {
     "name": "stderr",
     "output_type": "stream",
     "text": [
      "/Users/takeshi/.local/lib/python3.6/site-packages/sklearn/svm/base.py:931: ConvergenceWarning: Liblinear failed to converge, increase the number of iterations.\n",
      "  \"the number of iterations.\", ConvergenceWarning)\n"
     ]
    },
    {
     "name": "stdout",
     "output_type": "stream",
     "text": [
      "[CV]  C=1, loss=squared_hinge, score=0.7081212657667626, total=   5.9s\n",
      "[CV] C=1, loss=squared_hinge .........................................\n"
     ]
    },
    {
     "name": "stderr",
     "output_type": "stream",
     "text": [
      "/Users/takeshi/.local/lib/python3.6/site-packages/sklearn/svm/base.py:931: ConvergenceWarning: Liblinear failed to converge, increase the number of iterations.\n",
      "  \"the number of iterations.\", ConvergenceWarning)\n"
     ]
    },
    {
     "name": "stdout",
     "output_type": "stream",
     "text": [
      "[CV]  C=1, loss=squared_hinge, score=0.4461163974330604, total=   6.0s\n",
      "[CV] C=3, loss=hinge .................................................\n"
     ]
    },
    {
     "name": "stderr",
     "output_type": "stream",
     "text": [
      "/Users/takeshi/.local/lib/python3.6/site-packages/sklearn/svm/base.py:931: ConvergenceWarning: Liblinear failed to converge, increase the number of iterations.\n",
      "  \"the number of iterations.\", ConvergenceWarning)\n"
     ]
    },
    {
     "name": "stdout",
     "output_type": "stream",
     "text": [
      "[CV] ........ C=3, loss=hinge, score=0.7996754683581649, total=   5.4s\n",
      "[CV] C=3, loss=hinge .................................................\n"
     ]
    },
    {
     "name": "stderr",
     "output_type": "stream",
     "text": [
      "/Users/takeshi/.local/lib/python3.6/site-packages/sklearn/svm/base.py:931: ConvergenceWarning: Liblinear failed to converge, increase the number of iterations.\n",
      "  \"the number of iterations.\", ConvergenceWarning)\n"
     ]
    },
    {
     "name": "stdout",
     "output_type": "stream",
     "text": [
      "[CV] ........ C=3, loss=hinge, score=0.8903149664380025, total=   5.7s\n",
      "[CV] C=3, loss=hinge .................................................\n"
     ]
    },
    {
     "name": "stderr",
     "output_type": "stream",
     "text": [
      "/Users/takeshi/.local/lib/python3.6/site-packages/sklearn/svm/base.py:931: ConvergenceWarning: Liblinear failed to converge, increase the number of iterations.\n",
      "  \"the number of iterations.\", ConvergenceWarning)\n"
     ]
    },
    {
     "name": "stdout",
     "output_type": "stream",
     "text": [
      "[CV] ........ C=3, loss=hinge, score=0.8895035774876447, total=   6.3s\n",
      "[CV] C=3, loss=squared_hinge .........................................\n"
     ]
    },
    {
     "name": "stderr",
     "output_type": "stream",
     "text": [
      "/Users/takeshi/.local/lib/python3.6/site-packages/sklearn/svm/base.py:931: ConvergenceWarning: Liblinear failed to converge, increase the number of iterations.\n",
      "  \"the number of iterations.\", ConvergenceWarning)\n"
     ]
    },
    {
     "name": "stdout",
     "output_type": "stream",
     "text": [
      "[CV]  C=3, loss=squared_hinge, score=0.8673108128042484, total=   6.4s\n",
      "[CV] C=3, loss=squared_hinge .........................................\n"
     ]
    },
    {
     "name": "stderr",
     "output_type": "stream",
     "text": [
      "/Users/takeshi/.local/lib/python3.6/site-packages/sklearn/svm/base.py:931: ConvergenceWarning: Liblinear failed to converge, increase the number of iterations.\n",
      "  \"the number of iterations.\", ConvergenceWarning)\n"
     ]
    },
    {
     "name": "stdout",
     "output_type": "stream",
     "text": [
      "[CV]  C=3, loss=squared_hinge, score=0.8891347643283912, total=   6.6s\n",
      "[CV] C=3, loss=squared_hinge .........................................\n"
     ]
    },
    {
     "name": "stderr",
     "output_type": "stream",
     "text": [
      "/Users/takeshi/.local/lib/python3.6/site-packages/sklearn/svm/base.py:931: ConvergenceWarning: Liblinear failed to converge, increase the number of iterations.\n",
      "  \"the number of iterations.\", ConvergenceWarning)\n"
     ]
    },
    {
     "name": "stdout",
     "output_type": "stream",
     "text": [
      "[CV]  C=3, loss=squared_hinge, score=0.8822748395662757, total=   6.6s\n",
      "[CV] C=5, loss=hinge .................................................\n"
     ]
    },
    {
     "name": "stderr",
     "output_type": "stream",
     "text": [
      "/Users/takeshi/.local/lib/python3.6/site-packages/sklearn/svm/base.py:931: ConvergenceWarning: Liblinear failed to converge, increase the number of iterations.\n",
      "  \"the number of iterations.\", ConvergenceWarning)\n"
     ]
    },
    {
     "name": "stdout",
     "output_type": "stream",
     "text": [
      "[CV] ........ C=5, loss=hinge, score=0.8942321876382947, total=   5.6s\n",
      "[CV] C=5, loss=hinge .................................................\n"
     ]
    },
    {
     "name": "stderr",
     "output_type": "stream",
     "text": [
      "/Users/takeshi/.local/lib/python3.6/site-packages/sklearn/svm/base.py:931: ConvergenceWarning: Liblinear failed to converge, increase the number of iterations.\n",
      "  \"the number of iterations.\", ConvergenceWarning)\n"
     ]
    },
    {
     "name": "stdout",
     "output_type": "stream",
     "text": [
      "[CV] ........ C=5, loss=hinge, score=0.8949620122445969, total=   5.8s\n",
      "[CV] C=5, loss=hinge .................................................\n"
     ]
    },
    {
     "name": "stderr",
     "output_type": "stream",
     "text": [
      "/Users/takeshi/.local/lib/python3.6/site-packages/sklearn/svm/base.py:931: ConvergenceWarning: Liblinear failed to converge, increase the number of iterations.\n",
      "  \"the number of iterations.\", ConvergenceWarning)\n"
     ]
    },
    {
     "name": "stdout",
     "output_type": "stream",
     "text": [
      "[CV] ........ C=5, loss=hinge, score=0.7163826805340414, total=   5.5s\n",
      "[CV] C=5, loss=squared_hinge .........................................\n"
     ]
    },
    {
     "name": "stderr",
     "output_type": "stream",
     "text": [
      "/Users/takeshi/.local/lib/python3.6/site-packages/sklearn/svm/base.py:931: ConvergenceWarning: Liblinear failed to converge, increase the number of iterations.\n",
      "  \"the number of iterations.\", ConvergenceWarning)\n"
     ]
    },
    {
     "name": "stdout",
     "output_type": "stream",
     "text": [
      "[CV]  C=5, loss=squared_hinge, score=0.8440035403451837, total=   5.5s\n",
      "[CV] C=5, loss=squared_hinge .........................................\n"
     ]
    },
    {
     "name": "stderr",
     "output_type": "stream",
     "text": [
      "/Users/takeshi/.local/lib/python3.6/site-packages/sklearn/svm/base.py:931: ConvergenceWarning: Liblinear failed to converge, increase the number of iterations.\n",
      "  \"the number of iterations.\", ConvergenceWarning)\n"
     ]
    },
    {
     "name": "stdout",
     "output_type": "stream",
     "text": [
      "[CV]  C=5, loss=squared_hinge, score=0.8386811241425094, total=   5.4s\n",
      "[CV] C=5, loss=squared_hinge .........................................\n"
     ]
    },
    {
     "name": "stderr",
     "output_type": "stream",
     "text": [
      "/Users/takeshi/.local/lib/python3.6/site-packages/sklearn/svm/base.py:931: ConvergenceWarning: Liblinear failed to converge, increase the number of iterations.\n",
      "  \"the number of iterations.\", ConvergenceWarning)\n",
      "[Parallel(n_jobs=1)]: Done  30 out of  30 | elapsed:  2.9min finished\n"
     ]
    },
    {
     "name": "stdout",
     "output_type": "stream",
     "text": [
      "[CV] . C=5, loss=squared_hinge, score=0.891937744338718, total=   5.6s\n"
     ]
    },
    {
     "name": "stderr",
     "output_type": "stream",
     "text": [
      "/Users/takeshi/.local/lib/python3.6/site-packages/sklearn/svm/base.py:931: ConvergenceWarning: Liblinear failed to converge, increase the number of iterations.\n",
      "  \"the number of iterations.\", ConvergenceWarning)\n"
     ]
    },
    {
     "data": {
      "text/plain": [
       "GridSearchCV(cv=3, error_score='raise-deprecating',\n",
       "       estimator=LinearSVC(C=1.0, class_weight=None, dual=True, fit_intercept=True,\n",
       "     intercept_scaling=1, loss='squared_hinge', max_iter=1000,\n",
       "     multi_class='ovr', penalty='l2', random_state=None, tol=0.0001,\n",
       "     verbose=0),\n",
       "       fit_params=None, iid='warn', n_jobs=None,\n",
       "       param_grid={'C': [0.1, 0.5, 1, 3, 5], 'loss': ('hinge', 'squared_hinge')},\n",
       "       pre_dispatch='2*n_jobs', refit=True, return_train_score='warn',\n",
       "       scoring=None, verbose=3)"
      ]
     },
     "execution_count": 67,
     "metadata": {},
     "output_type": "execute_result"
    }
   ],
   "source": [
    "from sklearn.model_selection import GridSearchCV\n",
    "\n",
    "parameters = {\n",
    "    'C':[0.1,0.5,1, 3, 5],\n",
    "    'loss':('hinge', 'squared_hinge'),\n",
    "    #'penalty':('l1','l2')\n",
    "}\n",
    "clf = GridSearchCV(LinearSVC(), parameters,cv=3,verbose=3)\n",
    "clf.fit(X,y)"
   ]
  },
  {
   "cell_type": "code",
   "execution_count": 70,
   "metadata": {},
   "outputs": [
    {
     "data": {
      "text/plain": [
       "0.6410880141530296"
      ]
     },
     "execution_count": 70,
     "metadata": {},
     "output_type": "execute_result"
    }
   ],
   "source": [
    "test_X_gridsearch = get_features(test_df)\n",
    "clf.best_estimator_.score(test_X_gridsearch,test_y)"
   ]
  },
  {
   "cell_type": "code",
   "execution_count": null,
   "metadata": {},
   "outputs": [],
   "source": []
  }
 ],
 "metadata": {
  "kernelspec": {
   "display_name": "ml",
   "language": "python",
   "name": "ml"
  },
  "language_info": {
   "codemirror_mode": {
    "name": "ipython",
    "version": 3
   },
   "file_extension": ".py",
   "mimetype": "text/x-python",
   "name": "python",
   "nbconvert_exporter": "python",
   "pygments_lexer": "ipython3",
   "version": "3.6.3"
  }
 },
 "nbformat": 4,
 "nbformat_minor": 2
}
