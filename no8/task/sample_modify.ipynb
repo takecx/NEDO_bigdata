{
 "cells": [
  {
   "cell_type": "code",
   "execution_count": 48,
   "metadata": {
    "scrolled": true
   },
   "outputs": [],
   "source": [
    "import keras\n",
    "from keras.models import Sequential\n",
    "from keras.layers import Dense, Activation\n",
    "import numpy as np\n",
    "import pandas as pd\n",
    "from sklearn.metrics import accuracy_score"
   ]
  },
  {
   "cell_type": "markdown",
   "metadata": {},
   "source": [
    "## 学習"
   ]
  },
  {
   "cell_type": "code",
   "execution_count": 49,
   "metadata": {},
   "outputs": [
    {
     "data": {
      "text/html": [
       "<div>\n",
       "<style scoped>\n",
       "    .dataframe tbody tr th:only-of-type {\n",
       "        vertical-align: middle;\n",
       "    }\n",
       "\n",
       "    .dataframe tbody tr th {\n",
       "        vertical-align: top;\n",
       "    }\n",
       "\n",
       "    .dataframe thead th {\n",
       "        text-align: right;\n",
       "    }\n",
       "</style>\n",
       "<table border=\"1\" class=\"dataframe\">\n",
       "  <thead>\n",
       "    <tr style=\"text-align: right;\">\n",
       "      <th></th>\n",
       "      <th>age</th>\n",
       "      <th>job</th>\n",
       "      <th>marital</th>\n",
       "      <th>education</th>\n",
       "      <th>default</th>\n",
       "      <th>balance</th>\n",
       "      <th>housing</th>\n",
       "      <th>loan</th>\n",
       "      <th>contact</th>\n",
       "      <th>day</th>\n",
       "      <th>month</th>\n",
       "      <th>duration</th>\n",
       "      <th>campaign</th>\n",
       "      <th>pdays</th>\n",
       "      <th>previous</th>\n",
       "      <th>poutcome</th>\n",
       "      <th>y</th>\n",
       "    </tr>\n",
       "  </thead>\n",
       "  <tbody>\n",
       "    <tr>\n",
       "      <th>0</th>\n",
       "      <td>52</td>\n",
       "      <td>services</td>\n",
       "      <td>married</td>\n",
       "      <td>secondary</td>\n",
       "      <td>no</td>\n",
       "      <td>108</td>\n",
       "      <td>yes</td>\n",
       "      <td>no</td>\n",
       "      <td>unknown</td>\n",
       "      <td>15</td>\n",
       "      <td>may</td>\n",
       "      <td>543</td>\n",
       "      <td>12</td>\n",
       "      <td>-1</td>\n",
       "      <td>0</td>\n",
       "      <td>unknown</td>\n",
       "      <td>no</td>\n",
       "    </tr>\n",
       "    <tr>\n",
       "      <th>1</th>\n",
       "      <td>35</td>\n",
       "      <td>admin.</td>\n",
       "      <td>married</td>\n",
       "      <td>unknown</td>\n",
       "      <td>no</td>\n",
       "      <td>1055</td>\n",
       "      <td>no</td>\n",
       "      <td>no</td>\n",
       "      <td>cellular</td>\n",
       "      <td>2</td>\n",
       "      <td>mar</td>\n",
       "      <td>59</td>\n",
       "      <td>2</td>\n",
       "      <td>-1</td>\n",
       "      <td>0</td>\n",
       "      <td>unknown</td>\n",
       "      <td>no</td>\n",
       "    </tr>\n",
       "    <tr>\n",
       "      <th>2</th>\n",
       "      <td>37</td>\n",
       "      <td>blue-collar</td>\n",
       "      <td>married</td>\n",
       "      <td>secondary</td>\n",
       "      <td>no</td>\n",
       "      <td>32</td>\n",
       "      <td>yes</td>\n",
       "      <td>no</td>\n",
       "      <td>unknown</td>\n",
       "      <td>20</td>\n",
       "      <td>may</td>\n",
       "      <td>146</td>\n",
       "      <td>2</td>\n",
       "      <td>-1</td>\n",
       "      <td>0</td>\n",
       "      <td>unknown</td>\n",
       "      <td>no</td>\n",
       "    </tr>\n",
       "    <tr>\n",
       "      <th>3</th>\n",
       "      <td>57</td>\n",
       "      <td>unemployed</td>\n",
       "      <td>married</td>\n",
       "      <td>primary</td>\n",
       "      <td>no</td>\n",
       "      <td>2743</td>\n",
       "      <td>no</td>\n",
       "      <td>no</td>\n",
       "      <td>cellular</td>\n",
       "      <td>29</td>\n",
       "      <td>jan</td>\n",
       "      <td>89</td>\n",
       "      <td>1</td>\n",
       "      <td>-1</td>\n",
       "      <td>0</td>\n",
       "      <td>unknown</td>\n",
       "      <td>no</td>\n",
       "    </tr>\n",
       "    <tr>\n",
       "      <th>4</th>\n",
       "      <td>42</td>\n",
       "      <td>self-employed</td>\n",
       "      <td>married</td>\n",
       "      <td>tertiary</td>\n",
       "      <td>no</td>\n",
       "      <td>6383</td>\n",
       "      <td>no</td>\n",
       "      <td>no</td>\n",
       "      <td>cellular</td>\n",
       "      <td>27</td>\n",
       "      <td>aug</td>\n",
       "      <td>111</td>\n",
       "      <td>5</td>\n",
       "      <td>-1</td>\n",
       "      <td>0</td>\n",
       "      <td>unknown</td>\n",
       "      <td>no</td>\n",
       "    </tr>\n",
       "  </tbody>\n",
       "</table>\n",
       "</div>"
      ],
      "text/plain": [
       "   age            job  marital  education default  balance housing loan  \\\n",
       "0   52       services  married  secondary      no      108     yes   no   \n",
       "1   35         admin.  married    unknown      no     1055      no   no   \n",
       "2   37    blue-collar  married  secondary      no       32     yes   no   \n",
       "3   57     unemployed  married    primary      no     2743      no   no   \n",
       "4   42  self-employed  married   tertiary      no     6383      no   no   \n",
       "\n",
       "    contact  day month  duration  campaign  pdays  previous poutcome   y  \n",
       "0   unknown   15   may       543        12     -1         0  unknown  no  \n",
       "1  cellular    2   mar        59         2     -1         0  unknown  no  \n",
       "2   unknown   20   may       146         2     -1         0  unknown  no  \n",
       "3  cellular   29   jan        89         1     -1         0  unknown  no  \n",
       "4  cellular   27   aug       111         5     -1         0  unknown  no  "
      ]
     },
     "execution_count": 49,
     "metadata": {},
     "output_type": "execute_result"
    }
   ],
   "source": [
    "df = pd.read_csv('train.csv')\n",
    "df.head()"
   ]
  },
  {
   "cell_type": "code",
   "execution_count": 50,
   "metadata": {},
   "outputs": [],
   "source": [
    "def get_features(df):\n",
    "    # 特徴量として使う連続量\n",
    "    features_ana = ['age', 'balance','campaign','pdays','previous']\n",
    "    # 特徴量として使うカテゴリ値\n",
    "    features_dig = ['job', 'housing','default','marital','loan','poutcome']\n",
    "    X = np.concatenate(\n",
    "        [df[features_ana].values, pd.get_dummies(df[features_dig]).values],\n",
    "        axis=1)\n",
    "    return X\n",
    "\n",
    "def get_label(df):\n",
    "    y = df['y'].replace({'yes': 1, 'no': 0}).values\n",
    "    return y"
   ]
  },
  {
   "cell_type": "code",
   "execution_count": 51,
   "metadata": {},
   "outputs": [],
   "source": [
    "# 特徴量, ラベルを作成\n",
    "X = get_features(df)\n",
    "y = get_label(df)"
   ]
  },
  {
   "cell_type": "code",
   "execution_count": 52,
   "metadata": {},
   "outputs": [],
   "source": [
    "input_dim = X.shape[1]\n",
    "# 隠れ層なしのNN\n",
    "model = Sequential([\n",
    "    Dense(1, input_shape=(input_dim, )),\n",
    "    Dense(32,activation='relu'),\n",
    "    Dense(32,activation='relu'),\n",
    "    Dense(1),\n",
    "    Activation('sigmoid'),\n",
    "])"
   ]
  },
  {
   "cell_type": "code",
   "execution_count": 53,
   "metadata": {},
   "outputs": [],
   "source": [
    "model.compile(optimizer='rmsprop',\n",
    "              loss='binary_crossentropy',\n",
    "              metrics=['accuracy'])"
   ]
  },
  {
   "cell_type": "code",
   "execution_count": 66,
   "metadata": {},
   "outputs": [
    {
     "name": "stdout",
     "output_type": "stream",
     "text": [
      "Epoch 1/50\n",
      "40689/40689 [==============================] - 2s 55us/step - loss: 0.3393 - acc: 0.8836\n",
      "Epoch 2/50\n",
      "40689/40689 [==============================] - 2s 54us/step - loss: 0.3389 - acc: 0.8836\n",
      "Epoch 3/50\n",
      "40689/40689 [==============================] - 2s 54us/step - loss: 0.3388 - acc: 0.8836\n",
      "Epoch 4/50\n",
      "40689/40689 [==============================] - 2s 56us/step - loss: 0.3388 - acc: 0.8836\n",
      "Epoch 5/50\n",
      "40689/40689 [==============================] - 2s 55us/step - loss: 0.3381 - acc: 0.8836\n",
      "Epoch 6/50\n",
      "40689/40689 [==============================] - 2s 55us/step - loss: 0.3394 - acc: 0.8836\n",
      "Epoch 7/50\n",
      "40689/40689 [==============================] - 2s 54us/step - loss: 0.3388 - acc: 0.8836\n",
      "Epoch 8/50\n",
      "40689/40689 [==============================] - 2s 56us/step - loss: 0.3391 - acc: 0.8836\n",
      "Epoch 9/50\n",
      "40689/40689 [==============================] - 2s 57us/step - loss: 0.3386 - acc: 0.8836\n",
      "Epoch 10/50\n",
      "40689/40689 [==============================] - 2s 53us/step - loss: 0.3384 - acc: 0.8836\n",
      "Epoch 11/50\n",
      "40689/40689 [==============================] - 2s 56us/step - loss: 0.3385 - acc: 0.8836\n",
      "Epoch 12/50\n",
      "40689/40689 [==============================] - 2s 56us/step - loss: 0.3379 - acc: 0.8836\n",
      "Epoch 13/50\n",
      "40689/40689 [==============================] - 2s 57us/step - loss: 0.3383 - acc: 0.8836\n",
      "Epoch 14/50\n",
      "40689/40689 [==============================] - 2s 56us/step - loss: 0.3382 - acc: 0.8836\n",
      "Epoch 15/50\n",
      "40689/40689 [==============================] - 2s 55us/step - loss: 0.3381 - acc: 0.8836\n",
      "Epoch 16/50\n",
      "40689/40689 [==============================] - 2s 57us/step - loss: 0.3382 - acc: 0.8836\n",
      "Epoch 17/50\n",
      "40689/40689 [==============================] - 2s 57us/step - loss: 0.3379 - acc: 0.8836\n",
      "Epoch 18/50\n",
      "40689/40689 [==============================] - 2s 60us/step - loss: 0.3372 - acc: 0.8836\n",
      "Epoch 19/50\n",
      "40689/40689 [==============================] - 2s 60us/step - loss: 0.3377 - acc: 0.8836\n",
      "Epoch 20/50\n",
      "40689/40689 [==============================] - 2s 57us/step - loss: 0.3378 - acc: 0.8836\n",
      "Epoch 21/50\n",
      "40689/40689 [==============================] - 2s 59us/step - loss: 0.3372 - acc: 0.8836\n",
      "Epoch 22/50\n",
      "40689/40689 [==============================] - 3s 63us/step - loss: 0.3377 - acc: 0.8836\n",
      "Epoch 23/50\n",
      "40689/40689 [==============================] - 2s 57us/step - loss: 0.3373 - acc: 0.8836\n",
      "Epoch 24/50\n",
      "40689/40689 [==============================] - 3s 62us/step - loss: 0.3380 - acc: 0.8836\n",
      "Epoch 25/50\n",
      "40689/40689 [==============================] - 3s 64us/step - loss: 0.3374 - acc: 0.8836\n",
      "Epoch 26/50\n",
      "40689/40689 [==============================] - 3s 72us/step - loss: 0.3376 - acc: 0.8836\n",
      "Epoch 27/50\n",
      "40689/40689 [==============================] - 3s 65us/step - loss: 0.3381 - acc: 0.8836\n",
      "Epoch 28/50\n",
      "40689/40689 [==============================] - 2s 58us/step - loss: 0.3382 - acc: 0.8836\n",
      "Epoch 29/50\n",
      "40689/40689 [==============================] - 3s 62us/step - loss: 0.3365 - acc: 0.8836\n",
      "Epoch 30/50\n",
      "40689/40689 [==============================] - 3s 62us/step - loss: 0.3373 - acc: 0.8836\n",
      "Epoch 31/50\n",
      "40689/40689 [==============================] - 2s 60us/step - loss: 0.3373 - acc: 0.8836\n",
      "Epoch 32/50\n",
      "40689/40689 [==============================] - 2s 59us/step - loss: 0.3375 - acc: 0.8836\n",
      "Epoch 33/50\n",
      "40689/40689 [==============================] - 3s 63us/step - loss: 0.3368 - acc: 0.8836\n",
      "Epoch 34/50\n",
      "40689/40689 [==============================] - 3s 63us/step - loss: 0.3371 - acc: 0.8836\n",
      "Epoch 35/50\n",
      "40689/40689 [==============================] - 3s 61us/step - loss: 0.3369 - acc: 0.8836\n",
      "Epoch 36/50\n",
      "40689/40689 [==============================] - 3s 64us/step - loss: 0.3377 - acc: 0.8836\n",
      "Epoch 37/50\n",
      "40689/40689 [==============================] - 3s 64us/step - loss: 0.3376 - acc: 0.8836\n",
      "Epoch 38/50\n",
      "40689/40689 [==============================] - 3s 67us/step - loss: 0.3368 - acc: 0.8836\n",
      "Epoch 39/50\n",
      "40689/40689 [==============================] - 3s 63us/step - loss: 0.3368 - acc: 0.8836\n",
      "Epoch 40/50\n",
      "40689/40689 [==============================] - 2s 58us/step - loss: 0.3372 - acc: 0.8836\n",
      "Epoch 41/50\n",
      "40689/40689 [==============================] - 2s 61us/step - loss: 0.3371 - acc: 0.8836\n",
      "Epoch 42/50\n",
      "40689/40689 [==============================] - 3s 65us/step - loss: 0.3364 - acc: 0.8836\n",
      "Epoch 43/50\n",
      "40689/40689 [==============================] - 3s 64us/step - loss: 0.3364 - acc: 0.8836\n",
      "Epoch 44/50\n",
      "40689/40689 [==============================] - 3s 63us/step - loss: 0.3359 - acc: 0.8836\n",
      "Epoch 45/50\n",
      "40689/40689 [==============================] - 3s 64us/step - loss: 0.3356 - acc: 0.8836\n",
      "Epoch 46/50\n",
      "40689/40689 [==============================] - 3s 63us/step - loss: 0.3364 - acc: 0.8838\n",
      "Epoch 47/50\n",
      "40689/40689 [==============================] - 2s 61us/step - loss: 0.3361 - acc: 0.8834\n",
      "Epoch 48/50\n",
      "40689/40689 [==============================] - 2s 60us/step - loss: 0.3364 - acc: 0.8834\n",
      "Epoch 49/50\n",
      "40689/40689 [==============================] - 3s 66us/step - loss: 0.3354 - acc: 0.8835\n",
      "Epoch 50/50\n",
      "40689/40689 [==============================] - 2s 61us/step - loss: 0.3364 - acc: 0.8832\n"
     ]
    }
   ],
   "source": [
    "epochs = 50\n",
    "history = model.fit(X, y, epochs=epochs, batch_size=32)"
   ]
  },
  {
   "cell_type": "code",
   "execution_count": 67,
   "metadata": {},
   "outputs": [
    {
     "name": "stdout",
     "output_type": "stream",
     "text": [
      "{'loss': [0.33929537770787044, 0.3388634107600632, 0.33881840519333317, 0.3388161587739759, 0.33808833031878893, 0.3394210551073881, 0.33879636444777456, 0.33906738614645765, 0.33859418560842225, 0.3383921857456063, 0.33850921998785377, 0.3379041584668535, 0.33834750019988946, 0.3382212963908235, 0.33806424978374777, 0.3381872454880584, 0.3379214020009362, 0.33723444233127825, 0.33772414157971803, 0.337816167715367, 0.3371710123417315, 0.33769222554836137, 0.3372769580333242, 0.3380073120333627, 0.337353911951868, 0.33758791970375784, 0.33812579225881806, 0.338161298230731, 0.33649894987661716, 0.337340266655808, 0.3373001186376404, 0.33748097266394766, 0.3367815565749735, 0.3371148000617164, 0.33687633354686586, 0.33772983563681985, 0.33759827549258503, 0.3368274751515864, 0.33684866167450195, 0.3372190270040324, 0.33713878001199693, 0.3364034866306089, 0.33637329371406494, 0.33588563529279464, 0.3356305791630954, 0.33635544709238885, 0.33606581483766435, 0.33639159131514185, 0.33538770845439175, 0.33641948189827464], 'acc': [0.8835803288372682, 0.883580328838733, 0.883580328838733, 0.883580328840198, 0.883580328840198, 0.883580328840198, 0.883580328840198, 0.883580328840198, 0.8835803288372682, 0.8835803288416628, 0.883580328838733, 0.8835803288431278, 0.8835803288372682, 0.8835803288372682, 0.8835803288372682, 0.883580328840198, 0.8835803288372682, 0.883580328838733, 0.883580328840198, 0.8835803288416628, 0.8835803288372682, 0.883580328838733, 0.8835803288372682, 0.883580328838733, 0.883580328838733, 0.8835803288372682, 0.8835803288358033, 0.883580328838733, 0.883580328840198, 0.883580328840198, 0.883580328840198, 0.883580328838733, 0.883580328838733, 0.883580328838733, 0.8835803288372682, 0.883580328840198, 0.883580328838733, 0.883580328840198, 0.883580328840198, 0.883580328838733, 0.883580328840198, 0.883580328838733, 0.8835803288358033, 0.883580328838733, 0.8835803288358033, 0.8837523655129796, 0.8834328688372585, 0.8833837155034336, 0.8834574455041709, 0.8831625254997568]}\n"
     ]
    },
    {
     "data": {
      "text/plain": [
       "<matplotlib.legend.Legend at 0x13958b2b0>"
      ]
     },
     "execution_count": 67,
     "metadata": {},
     "output_type": "execute_result"
    },
    {
     "data": {
      "image/png": "[encoded data removed]",
      "text/plain": [
       "<Figure size 1008x432 with 2 Axes>"
      ]
     },
     "metadata": {
      "needs_background": "light"
     },
     "output_type": "display_data"
    }
   ],
   "source": [
    "%matplotlib inline\n",
    "import matplotlib.pyplot as plt\n",
    "print(history.history)\n",
    "plt.figure(figsize=(14,6))\n",
    "plt.subplot(1,2,1)\n",
    "plt.plot(history.history['loss'],label='loss')\n",
    "plt.legend()\n",
    "plt.subplot(1,2,2)\n",
    "plt.plot(history.history['acc'],label='acc')\n",
    "plt.legend()"
   ]
  },
  {
   "cell_type": "markdown",
   "metadata": {},
   "source": [
    "## テスト"
   ]
  },
  {
   "cell_type": "code",
   "execution_count": 41,
   "metadata": {},
   "outputs": [],
   "source": [
    "test_df = pd.read_csv('test.csv')"
   ]
  },
  {
   "cell_type": "code",
   "execution_count": 42,
   "metadata": {},
   "outputs": [],
   "source": [
    "test_X = get_features(test_df)\n",
    "test_y = get_label(test_df)"
   ]
  },
  {
   "cell_type": "code",
   "execution_count": 43,
   "metadata": {},
   "outputs": [],
   "source": [
    "# accuracy\n",
    "pred = model.predict(test_X).reshape(-1)\n",
    "pred = (pred > 0.5).astype(int)"
   ]
  },
  {
   "cell_type": "code",
   "execution_count": 11,
   "metadata": {},
   "outputs": [
    {
     "data": {
      "text/plain": [
       "0.8779301194161875"
      ]
     },
     "execution_count": 11,
     "metadata": {},
     "output_type": "execute_result"
    }
   ],
   "source": [
    "# test ARI (この値を報告してください)\n",
    "accuracy_score(test_y, pred)"
   ]
  },
  {
   "cell_type": "code",
   "execution_count": 20,
   "metadata": {},
   "outputs": [
    {
     "data": {
      "text/plain": [
       "0.8788146837682441"
      ]
     },
     "execution_count": 20,
     "metadata": {},
     "output_type": "execute_result"
    }
   ],
   "source": [
    "'''\n",
    "    # 特徴量として使う連続量\n",
    "    features_ana = ['age', 'balance','day','duration','campaign','pdays','previous']\n",
    "    # 特徴量として使うカテゴリ値\n",
    "    features_dig = ['job', 'housing']\n",
    "'''\n",
    "# test ARI (この値を報告してください)\n",
    "accuracy_score(test_y, pred)"
   ]
  },
  {
   "cell_type": "code",
   "execution_count": 29,
   "metadata": {},
   "outputs": [
    {
     "data": {
      "text/plain": [
       "0.8861123396727112"
      ]
     },
     "execution_count": 29,
     "metadata": {},
     "output_type": "execute_result"
    }
   ],
   "source": [
    "'''\n",
    "    # 特徴量として使う連続量\n",
    "    features_ana = ['age', 'balance','campaign','pdays','previous']\n",
    "    # 特徴量として使うカテゴリ値\n",
    "    features_dig = ['job', 'housing','default','marital','loan','poutcome']\n",
    "'''\n",
    "# test ARI (この値を報告してください)\n",
    "accuracy_score(test_y, pred)"
   ]
  },
  {
   "cell_type": "code",
   "execution_count": 34,
   "metadata": {},
   "outputs": [
    {
     "data": {
      "text/plain": [
       "0.8823529411764706"
      ]
     },
     "execution_count": 34,
     "metadata": {},
     "output_type": "execute_result"
    }
   ],
   "source": [
    "'''\n",
    "100 epoch\n",
    "'''\n",
    "# test ARI (この値を報告してください)\n",
    "accuracy_score(test_y, pred)"
   ]
  },
  {
   "cell_type": "code",
   "execution_count": 44,
   "metadata": {},
   "outputs": [
    {
     "data": {
      "text/plain": [
       "0.8785935426802299"
      ]
     },
     "execution_count": 44,
     "metadata": {},
     "output_type": "execute_result"
    }
   ],
   "source": [
    "'''\n",
    "隠れ層追加\n",
    "'''\n",
    "# test ARI (この値を報告してください)\n",
    "accuracy_score(test_y, pred)"
   ]
  },
  {
   "cell_type": "code",
   "execution_count": null,
   "metadata": {},
   "outputs": [],
   "source": []
  }
 ],
 "metadata": {
  "kernelspec": {
   "display_name": "keras",
   "language": "python",
   "name": "keras"
  },
  "language_info": {
   "codemirror_mode": {
    "name": "ipython",
    "version": 3
   },
   "file_extension": ".py",
   "mimetype": "text/x-python",
   "name": "python",
   "nbconvert_exporter": "python",
   "pygments_lexer": "ipython3",
   "version": "3.6.3"
  }
 },
 "nbformat": 4,
 "nbformat_minor": 2
}
